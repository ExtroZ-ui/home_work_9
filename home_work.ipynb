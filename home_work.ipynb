{
 "cells": [
  {
   "cell_type": "code",
   "execution_count": 1,
   "metadata": {},
   "outputs": [
    {
     "name": "stdout",
     "output_type": "stream",
     "text": [
      "Номер А222ВС валиден. Регион: 96.\n",
      "Номер не валиден.\n"
     ]
    }
   ],
   "source": [
    "import re\n",
    "\n",
    "def validate_car_id(car_id):\n",
    "    \"\"\"\n",
    "    Проверяет, является ли переданный номер валидным транспортным номером.\n",
    "    \"\"\"\n",
    "    # Регулярное выражение для проверки\n",
    "    pattern = r\"^[АВЕКМНОРСТУХ]\\d{3}[АВЕКМНОРСТУХ]{2}\\d{2,3}$\"\n",
    "    \n",
    "    if re.match(pattern, car_id):\n",
    "        # Извлекаем номер и регион\n",
    "        car_number = car_id[:-2]  # Всё, кроме последних 2–3 символов\n",
    "        region = car_id[-2:]  # Последние 2–3 символа\n",
    "        return f\"Номер {car_number} валиден. Регион: {region}.\"\n",
    "    else:\n",
    "        return \"Номер не валиден.\"\n",
    "\n",
    "# Примеры:\n",
    "print(validate_car_id(\"А222ВС96\"))\n",
    "print(validate_car_id(\"АБ22ВВ193\"))\n"
   ]
  },
  {
   "cell_type": "code",
   "execution_count": 2,
   "metadata": {},
   "outputs": [
    {
     "name": "stdout",
     "output_type": "stream",
     "text": [
      "Напишите функцию, которая будет удалять все последовательные повторы слов из заданной строки при помощи регулярных выражений\n"
     ]
    }
   ],
   "source": [
    "import re\n",
    "\n",
    "def remove_repeated_words(some_string):\n",
    "    \"\"\"\n",
    "    Удаляет все последовательные повторы слов в строке.\n",
    "    \"\"\"\n",
    "    # Регулярное выражение для нахождения повторяющихся слов\n",
    "    pattern = r'\\b(\\w+)\\b(?:\\s+\\1\\b)+'\n",
    "    # Замена повторов на одно слово\n",
    "    return re.sub(pattern, r'\\1', some_string)\n",
    "\n",
    "# Пример:\n",
    "some_string = \"Напишите функцию функцию, которая будет будет будет будет удалять все все все все последовательные повторы слов из из из из заданной строки строки при помощи регулярных выражений\"\n",
    "print(remove_repeated_words(some_string))\n"
   ]
  }
 ],
 "metadata": {
  "kernelspec": {
   "display_name": "Python 3",
   "language": "python",
   "name": "python3"
  },
  "language_info": {
   "codemirror_mode": {
    "name": "ipython",
    "version": 3
   },
   "file_extension": ".py",
   "mimetype": "text/x-python",
   "name": "python",
   "nbconvert_exporter": "python",
   "pygments_lexer": "ipython3",
   "version": "3.12.6"
  }
 },
 "nbformat": 4,
 "nbformat_minor": 2
}
